{
 "cells": [
  {
   "cell_type": "code",
   "execution_count": 12,
   "metadata": {},
   "outputs": [],
   "source": [
    "import pandas as pd\n",
    "import matplotlib.pyplot as plt"
   ]
  },
  {
   "cell_type": "code",
   "execution_count": 5,
   "metadata": {},
   "outputs": [],
   "source": [
    "df = pd.read_csv('C:/Users/sai/Desktop/data/US_Accidents_Dec20.csv')"
   ]
  },
  {
   "cell_type": "code",
   "execution_count": 8,
   "metadata": {},
   "outputs": [
    {
     "data": {
      "text/html": [
       "<div>\n",
       "<style scoped>\n",
       "    .dataframe tbody tr th:only-of-type {\n",
       "        vertical-align: middle;\n",
       "    }\n",
       "\n",
       "    .dataframe tbody tr th {\n",
       "        vertical-align: top;\n",
       "    }\n",
       "\n",
       "    .dataframe thead th {\n",
       "        text-align: right;\n",
       "    }\n",
       "</style>\n",
       "<table border=\"1\" class=\"dataframe\">\n",
       "  <thead>\n",
       "    <tr style=\"text-align: right;\">\n",
       "      <th></th>\n",
       "      <th>ID</th>\n",
       "      <th>Source</th>\n",
       "      <th>TMC</th>\n",
       "      <th>Severity</th>\n",
       "      <th>Start_Time</th>\n",
       "      <th>End_Time</th>\n",
       "      <th>Start_Lat</th>\n",
       "      <th>Start_Lng</th>\n",
       "      <th>End_Lat</th>\n",
       "      <th>End_Lng</th>\n",
       "      <th>...</th>\n",
       "      <th>Roundabout</th>\n",
       "      <th>Station</th>\n",
       "      <th>Stop</th>\n",
       "      <th>Traffic_Calming</th>\n",
       "      <th>Traffic_Signal</th>\n",
       "      <th>Turning_Loop</th>\n",
       "      <th>Sunrise_Sunset</th>\n",
       "      <th>Civil_Twilight</th>\n",
       "      <th>Nautical_Twilight</th>\n",
       "      <th>Astronomical_Twilight</th>\n",
       "    </tr>\n",
       "  </thead>\n",
       "  <tbody>\n",
       "    <tr>\n",
       "      <th>0</th>\n",
       "      <td>A-1</td>\n",
       "      <td>MapQuest</td>\n",
       "      <td>201.0</td>\n",
       "      <td>3</td>\n",
       "      <td>2016-02-08 05:46:00</td>\n",
       "      <td>2016-02-08 11:00:00</td>\n",
       "      <td>39.865147</td>\n",
       "      <td>-84.058723</td>\n",
       "      <td>NaN</td>\n",
       "      <td>NaN</td>\n",
       "      <td>...</td>\n",
       "      <td>False</td>\n",
       "      <td>False</td>\n",
       "      <td>False</td>\n",
       "      <td>False</td>\n",
       "      <td>False</td>\n",
       "      <td>False</td>\n",
       "      <td>Night</td>\n",
       "      <td>Night</td>\n",
       "      <td>Night</td>\n",
       "      <td>Night</td>\n",
       "    </tr>\n",
       "    <tr>\n",
       "      <th>1</th>\n",
       "      <td>A-2</td>\n",
       "      <td>MapQuest</td>\n",
       "      <td>201.0</td>\n",
       "      <td>2</td>\n",
       "      <td>2016-02-08 06:07:59</td>\n",
       "      <td>2016-02-08 06:37:59</td>\n",
       "      <td>39.928059</td>\n",
       "      <td>-82.831184</td>\n",
       "      <td>NaN</td>\n",
       "      <td>NaN</td>\n",
       "      <td>...</td>\n",
       "      <td>False</td>\n",
       "      <td>False</td>\n",
       "      <td>False</td>\n",
       "      <td>False</td>\n",
       "      <td>False</td>\n",
       "      <td>False</td>\n",
       "      <td>Night</td>\n",
       "      <td>Night</td>\n",
       "      <td>Night</td>\n",
       "      <td>Day</td>\n",
       "    </tr>\n",
       "    <tr>\n",
       "      <th>2</th>\n",
       "      <td>A-3</td>\n",
       "      <td>MapQuest</td>\n",
       "      <td>201.0</td>\n",
       "      <td>2</td>\n",
       "      <td>2016-02-08 06:49:27</td>\n",
       "      <td>2016-02-08 07:19:27</td>\n",
       "      <td>39.063148</td>\n",
       "      <td>-84.032608</td>\n",
       "      <td>NaN</td>\n",
       "      <td>NaN</td>\n",
       "      <td>...</td>\n",
       "      <td>False</td>\n",
       "      <td>False</td>\n",
       "      <td>False</td>\n",
       "      <td>False</td>\n",
       "      <td>True</td>\n",
       "      <td>False</td>\n",
       "      <td>Night</td>\n",
       "      <td>Night</td>\n",
       "      <td>Day</td>\n",
       "      <td>Day</td>\n",
       "    </tr>\n",
       "    <tr>\n",
       "      <th>3</th>\n",
       "      <td>A-4</td>\n",
       "      <td>MapQuest</td>\n",
       "      <td>201.0</td>\n",
       "      <td>3</td>\n",
       "      <td>2016-02-08 07:23:34</td>\n",
       "      <td>2016-02-08 07:53:34</td>\n",
       "      <td>39.747753</td>\n",
       "      <td>-84.205582</td>\n",
       "      <td>NaN</td>\n",
       "      <td>NaN</td>\n",
       "      <td>...</td>\n",
       "      <td>False</td>\n",
       "      <td>False</td>\n",
       "      <td>False</td>\n",
       "      <td>False</td>\n",
       "      <td>False</td>\n",
       "      <td>False</td>\n",
       "      <td>Night</td>\n",
       "      <td>Day</td>\n",
       "      <td>Day</td>\n",
       "      <td>Day</td>\n",
       "    </tr>\n",
       "    <tr>\n",
       "      <th>4</th>\n",
       "      <td>A-5</td>\n",
       "      <td>MapQuest</td>\n",
       "      <td>201.0</td>\n",
       "      <td>2</td>\n",
       "      <td>2016-02-08 07:39:07</td>\n",
       "      <td>2016-02-08 08:09:07</td>\n",
       "      <td>39.627781</td>\n",
       "      <td>-84.188354</td>\n",
       "      <td>NaN</td>\n",
       "      <td>NaN</td>\n",
       "      <td>...</td>\n",
       "      <td>False</td>\n",
       "      <td>False</td>\n",
       "      <td>False</td>\n",
       "      <td>False</td>\n",
       "      <td>True</td>\n",
       "      <td>False</td>\n",
       "      <td>Day</td>\n",
       "      <td>Day</td>\n",
       "      <td>Day</td>\n",
       "      <td>Day</td>\n",
       "    </tr>\n",
       "  </tbody>\n",
       "</table>\n",
       "<p>5 rows × 49 columns</p>\n",
       "</div>"
      ],
      "text/plain": [
       "    ID    Source    TMC  Severity           Start_Time             End_Time  \\\n",
       "0  A-1  MapQuest  201.0         3  2016-02-08 05:46:00  2016-02-08 11:00:00   \n",
       "1  A-2  MapQuest  201.0         2  2016-02-08 06:07:59  2016-02-08 06:37:59   \n",
       "2  A-3  MapQuest  201.0         2  2016-02-08 06:49:27  2016-02-08 07:19:27   \n",
       "3  A-4  MapQuest  201.0         3  2016-02-08 07:23:34  2016-02-08 07:53:34   \n",
       "4  A-5  MapQuest  201.0         2  2016-02-08 07:39:07  2016-02-08 08:09:07   \n",
       "\n",
       "   Start_Lat  Start_Lng  End_Lat  End_Lng          ...           Roundabout  \\\n",
       "0  39.865147 -84.058723      NaN      NaN          ...                False   \n",
       "1  39.928059 -82.831184      NaN      NaN          ...                False   \n",
       "2  39.063148 -84.032608      NaN      NaN          ...                False   \n",
       "3  39.747753 -84.205582      NaN      NaN          ...                False   \n",
       "4  39.627781 -84.188354      NaN      NaN          ...                False   \n",
       "\n",
       "  Station   Stop Traffic_Calming Traffic_Signal Turning_Loop Sunrise_Sunset  \\\n",
       "0   False  False           False          False        False          Night   \n",
       "1   False  False           False          False        False          Night   \n",
       "2   False  False           False           True        False          Night   \n",
       "3   False  False           False          False        False          Night   \n",
       "4   False  False           False           True        False            Day   \n",
       "\n",
       "  Civil_Twilight Nautical_Twilight Astronomical_Twilight  \n",
       "0          Night             Night                 Night  \n",
       "1          Night             Night                   Day  \n",
       "2          Night               Day                   Day  \n",
       "3            Day               Day                   Day  \n",
       "4            Day               Day                   Day  \n",
       "\n",
       "[5 rows x 49 columns]"
      ]
     },
     "execution_count": 8,
     "metadata": {},
     "output_type": "execute_result"
    }
   ],
   "source": [
    "df.head()"
   ]
  },
  {
   "cell_type": "code",
   "execution_count": 15,
   "metadata": {},
   "outputs": [
    {
     "name": "stdout",
     "output_type": "stream",
     "text": [
      "<class 'pandas.core.frame.DataFrame'>\n",
      "RangeIndex: 4232541 entries, 0 to 4232540\n",
      "Data columns (total 49 columns):\n",
      "ID                       object\n",
      "Source                   object\n",
      "TMC                      float64\n",
      "Severity                 int64\n",
      "Start_Time               object\n",
      "End_Time                 object\n",
      "Start_Lat                float64\n",
      "Start_Lng                float64\n",
      "End_Lat                  float64\n",
      "End_Lng                  float64\n",
      "Distance(mi)             float64\n",
      "Description              object\n",
      "Number                   float64\n",
      "Street                   object\n",
      "Side                     object\n",
      "City                     object\n",
      "County                   object\n",
      "State                    object\n",
      "Zipcode                  object\n",
      "Country                  object\n",
      "Timezone                 object\n",
      "Airport_Code             object\n",
      "Weather_Timestamp        object\n",
      "Temperature(F)           float64\n",
      "Wind_Chill(F)            float64\n",
      "Humidity(%)              float64\n",
      "Pressure(in)             float64\n",
      "Visibility(mi)           float64\n",
      "Wind_Direction           object\n",
      "Wind_Speed(mph)          float64\n",
      "Precipitation(in)        float64\n",
      "Weather_Condition        object\n",
      "Amenity                  bool\n",
      "Bump                     bool\n",
      "Crossing                 bool\n",
      "Give_Way                 bool\n",
      "Junction                 bool\n",
      "No_Exit                  bool\n",
      "Railway                  bool\n",
      "Roundabout               bool\n",
      "Station                  bool\n",
      "Stop                     bool\n",
      "Traffic_Calming          bool\n",
      "Traffic_Signal           bool\n",
      "Turning_Loop             bool\n",
      "Sunrise_Sunset           object\n",
      "Civil_Twilight           object\n",
      "Nautical_Twilight        object\n",
      "Astronomical_Twilight    object\n",
      "dtypes: bool(13), float64(14), int64(1), object(21)\n",
      "memory usage: 1.2+ GB\n"
     ]
    }
   ],
   "source": [
    "df.info()"
   ]
  },
  {
   "cell_type": "code",
   "execution_count": 10,
   "metadata": {},
   "outputs": [
    {
     "data": {
      "text/html": [
       "<div>\n",
       "<style scoped>\n",
       "    .dataframe tbody tr th:only-of-type {\n",
       "        vertical-align: middle;\n",
       "    }\n",
       "\n",
       "    .dataframe tbody tr th {\n",
       "        vertical-align: top;\n",
       "    }\n",
       "\n",
       "    .dataframe thead th {\n",
       "        text-align: right;\n",
       "    }\n",
       "</style>\n",
       "<table border=\"1\" class=\"dataframe\">\n",
       "  <thead>\n",
       "    <tr style=\"text-align: right;\">\n",
       "      <th></th>\n",
       "      <th>TMC</th>\n",
       "      <th>Severity</th>\n",
       "      <th>Start_Lat</th>\n",
       "      <th>Start_Lng</th>\n",
       "      <th>End_Lat</th>\n",
       "      <th>End_Lng</th>\n",
       "      <th>Distance(mi)</th>\n",
       "      <th>Number</th>\n",
       "      <th>Temperature(F)</th>\n",
       "      <th>Wind_Chill(F)</th>\n",
       "      <th>Humidity(%)</th>\n",
       "      <th>Pressure(in)</th>\n",
       "      <th>Visibility(mi)</th>\n",
       "      <th>Wind_Speed(mph)</th>\n",
       "      <th>Precipitation(in)</th>\n",
       "    </tr>\n",
       "  </thead>\n",
       "  <tbody>\n",
       "    <tr>\n",
       "      <th>count</th>\n",
       "      <td>2.716477e+06</td>\n",
       "      <td>4.232541e+06</td>\n",
       "      <td>4.232541e+06</td>\n",
       "      <td>4.232541e+06</td>\n",
       "      <td>1.516064e+06</td>\n",
       "      <td>1.516064e+06</td>\n",
       "      <td>4.232541e+06</td>\n",
       "      <td>1.544592e+06</td>\n",
       "      <td>4.142641e+06</td>\n",
       "      <td>2.336540e+06</td>\n",
       "      <td>4.137074e+06</td>\n",
       "      <td>4.156157e+06</td>\n",
       "      <td>4.133873e+06</td>\n",
       "      <td>3.753215e+06</td>\n",
       "      <td>2.166952e+06</td>\n",
       "    </tr>\n",
       "    <tr>\n",
       "      <th>mean</th>\n",
       "      <td>2.083517e+02</td>\n",
       "      <td>2.305035e+00</td>\n",
       "      <td>3.639782e+01</td>\n",
       "      <td>-9.546420e+01</td>\n",
       "      <td>3.690061e+01</td>\n",
       "      <td>-9.859901e+01</td>\n",
       "      <td>3.357021e-01</td>\n",
       "      <td>6.141507e+03</td>\n",
       "      <td>6.147799e+01</td>\n",
       "      <td>5.489319e+01</td>\n",
       "      <td>6.567422e+01</td>\n",
       "      <td>2.969371e+01</td>\n",
       "      <td>9.111991e+00</td>\n",
       "      <td>7.903433e+00</td>\n",
       "      <td>1.244719e-02</td>\n",
       "    </tr>\n",
       "    <tr>\n",
       "      <th>std</th>\n",
       "      <td>2.124413e+01</td>\n",
       "      <td>5.332261e-01</td>\n",
       "      <td>4.964404e+00</td>\n",
       "      <td>1.735319e+01</td>\n",
       "      <td>5.165629e+00</td>\n",
       "      <td>1.849590e+01</td>\n",
       "      <td>1.602143e+00</td>\n",
       "      <td>1.492268e+04</td>\n",
       "      <td>1.852586e+01</td>\n",
       "      <td>2.272355e+01</td>\n",
       "      <td>2.272342e+01</td>\n",
       "      <td>8.639260e-01</td>\n",
       "      <td>2.817582e+00</td>\n",
       "      <td>5.330998e+00</td>\n",
       "      <td>1.637154e-01</td>\n",
       "    </tr>\n",
       "    <tr>\n",
       "      <th>min</th>\n",
       "      <td>2.000000e+02</td>\n",
       "      <td>1.000000e+00</td>\n",
       "      <td>2.455527e+01</td>\n",
       "      <td>-1.246238e+02</td>\n",
       "      <td>2.457011e+01</td>\n",
       "      <td>-1.244978e+02</td>\n",
       "      <td>0.000000e+00</td>\n",
       "      <td>0.000000e+00</td>\n",
       "      <td>-8.900000e+01</td>\n",
       "      <td>-8.900000e+01</td>\n",
       "      <td>1.000000e+00</td>\n",
       "      <td>0.000000e+00</td>\n",
       "      <td>0.000000e+00</td>\n",
       "      <td>0.000000e+00</td>\n",
       "      <td>0.000000e+00</td>\n",
       "    </tr>\n",
       "    <tr>\n",
       "      <th>25%</th>\n",
       "      <td>2.010000e+02</td>\n",
       "      <td>2.000000e+00</td>\n",
       "      <td>3.352058e+01</td>\n",
       "      <td>-1.173570e+02</td>\n",
       "      <td>3.385420e+01</td>\n",
       "      <td>-1.182077e+02</td>\n",
       "      <td>0.000000e+00</td>\n",
       "      <td>8.980000e+02</td>\n",
       "      <td>4.900000e+01</td>\n",
       "      <td>3.800000e+01</td>\n",
       "      <td>4.900000e+01</td>\n",
       "      <td>2.964000e+01</td>\n",
       "      <td>1.000000e+01</td>\n",
       "      <td>4.600000e+00</td>\n",
       "      <td>0.000000e+00</td>\n",
       "    </tr>\n",
       "    <tr>\n",
       "      <th>50%</th>\n",
       "      <td>2.010000e+02</td>\n",
       "      <td>2.000000e+00</td>\n",
       "      <td>3.582542e+01</td>\n",
       "      <td>-9.002078e+01</td>\n",
       "      <td>3.735134e+01</td>\n",
       "      <td>-9.437987e+01</td>\n",
       "      <td>0.000000e+00</td>\n",
       "      <td>2.890000e+03</td>\n",
       "      <td>6.300000e+01</td>\n",
       "      <td>5.800000e+01</td>\n",
       "      <td>6.800000e+01</td>\n",
       "      <td>2.993000e+01</td>\n",
       "      <td>1.000000e+01</td>\n",
       "      <td>7.000000e+00</td>\n",
       "      <td>0.000000e+00</td>\n",
       "    </tr>\n",
       "    <tr>\n",
       "      <th>75%</th>\n",
       "      <td>2.010000e+02</td>\n",
       "      <td>3.000000e+00</td>\n",
       "      <td>4.018313e+01</td>\n",
       "      <td>-8.084682e+01</td>\n",
       "      <td>4.072593e+01</td>\n",
       "      <td>-8.087449e+01</td>\n",
       "      <td>8.900000e-02</td>\n",
       "      <td>7.330000e+03</td>\n",
       "      <td>7.520000e+01</td>\n",
       "      <td>7.300000e+01</td>\n",
       "      <td>8.500000e+01</td>\n",
       "      <td>3.008000e+01</td>\n",
       "      <td>1.000000e+01</td>\n",
       "      <td>1.040000e+01</td>\n",
       "      <td>0.000000e+00</td>\n",
       "    </tr>\n",
       "    <tr>\n",
       "      <th>max</th>\n",
       "      <td>4.060000e+02</td>\n",
       "      <td>4.000000e+00</td>\n",
       "      <td>4.900220e+01</td>\n",
       "      <td>-6.711317e+01</td>\n",
       "      <td>4.907500e+01</td>\n",
       "      <td>-6.710924e+01</td>\n",
       "      <td>4.417500e+02</td>\n",
       "      <td>9.999997e+06</td>\n",
       "      <td>2.030000e+02</td>\n",
       "      <td>1.890000e+02</td>\n",
       "      <td>1.000000e+02</td>\n",
       "      <td>5.804000e+01</td>\n",
       "      <td>1.400000e+02</td>\n",
       "      <td>9.840000e+02</td>\n",
       "      <td>2.500000e+01</td>\n",
       "    </tr>\n",
       "  </tbody>\n",
       "</table>\n",
       "</div>"
      ],
      "text/plain": [
       "                TMC      Severity     Start_Lat     Start_Lng       End_Lat  \\\n",
       "count  2.716477e+06  4.232541e+06  4.232541e+06  4.232541e+06  1.516064e+06   \n",
       "mean   2.083517e+02  2.305035e+00  3.639782e+01 -9.546420e+01  3.690061e+01   \n",
       "std    2.124413e+01  5.332261e-01  4.964404e+00  1.735319e+01  5.165629e+00   \n",
       "min    2.000000e+02  1.000000e+00  2.455527e+01 -1.246238e+02  2.457011e+01   \n",
       "25%    2.010000e+02  2.000000e+00  3.352058e+01 -1.173570e+02  3.385420e+01   \n",
       "50%    2.010000e+02  2.000000e+00  3.582542e+01 -9.002078e+01  3.735134e+01   \n",
       "75%    2.010000e+02  3.000000e+00  4.018313e+01 -8.084682e+01  4.072593e+01   \n",
       "max    4.060000e+02  4.000000e+00  4.900220e+01 -6.711317e+01  4.907500e+01   \n",
       "\n",
       "            End_Lng  Distance(mi)        Number  Temperature(F)  \\\n",
       "count  1.516064e+06  4.232541e+06  1.544592e+06    4.142641e+06   \n",
       "mean  -9.859901e+01  3.357021e-01  6.141507e+03    6.147799e+01   \n",
       "std    1.849590e+01  1.602143e+00  1.492268e+04    1.852586e+01   \n",
       "min   -1.244978e+02  0.000000e+00  0.000000e+00   -8.900000e+01   \n",
       "25%   -1.182077e+02  0.000000e+00  8.980000e+02    4.900000e+01   \n",
       "50%   -9.437987e+01  0.000000e+00  2.890000e+03    6.300000e+01   \n",
       "75%   -8.087449e+01  8.900000e-02  7.330000e+03    7.520000e+01   \n",
       "max   -6.710924e+01  4.417500e+02  9.999997e+06    2.030000e+02   \n",
       "\n",
       "       Wind_Chill(F)   Humidity(%)  Pressure(in)  Visibility(mi)  \\\n",
       "count   2.336540e+06  4.137074e+06  4.156157e+06    4.133873e+06   \n",
       "mean    5.489319e+01  6.567422e+01  2.969371e+01    9.111991e+00   \n",
       "std     2.272355e+01  2.272342e+01  8.639260e-01    2.817582e+00   \n",
       "min    -8.900000e+01  1.000000e+00  0.000000e+00    0.000000e+00   \n",
       "25%     3.800000e+01  4.900000e+01  2.964000e+01    1.000000e+01   \n",
       "50%     5.800000e+01  6.800000e+01  2.993000e+01    1.000000e+01   \n",
       "75%     7.300000e+01  8.500000e+01  3.008000e+01    1.000000e+01   \n",
       "max     1.890000e+02  1.000000e+02  5.804000e+01    1.400000e+02   \n",
       "\n",
       "       Wind_Speed(mph)  Precipitation(in)  \n",
       "count     3.753215e+06       2.166952e+06  \n",
       "mean      7.903433e+00       1.244719e-02  \n",
       "std       5.330998e+00       1.637154e-01  \n",
       "min       0.000000e+00       0.000000e+00  \n",
       "25%       4.600000e+00       0.000000e+00  \n",
       "50%       7.000000e+00       0.000000e+00  \n",
       "75%       1.040000e+01       0.000000e+00  \n",
       "max       9.840000e+02       2.500000e+01  "
      ]
     },
     "execution_count": 10,
     "metadata": {},
     "output_type": "execute_result"
    }
   ],
   "source": [
    "df.describe()"
   ]
  },
  {
   "cell_type": "markdown",
   "metadata": {},
   "source": [
    "# Percentage of missing values per column"
   ]
  },
  {
   "cell_type": "code",
   "execution_count": 9,
   "metadata": {},
   "outputs": [
    {
     "data": {
      "text/plain": [
       "End_Lat                  6.418076e-01\n",
       "End_Lng                  6.418076e-01\n",
       "Number                   6.350674e-01\n",
       "Precipitation(in)        4.880258e-01\n",
       "Wind_Chill(F)            4.479581e-01\n",
       "TMC                      3.581924e-01\n",
       "Wind_Speed(mph)          1.132478e-01\n",
       "Visibility(mi)           2.331176e-02\n",
       "Weather_Condition        2.324443e-02\n",
       "Humidity(%)              2.255548e-02\n",
       "Temperature(F)           2.124020e-02\n",
       "Wind_Direction           1.975433e-02\n",
       "Pressure(in)             1.804684e-02\n",
       "Weather_Timestamp        1.480057e-02\n",
       "Airport_Code             2.120003e-03\n",
       "Timezone                 1.090362e-03\n",
       "Zipcode                  3.052540e-04\n",
       "Nautical_Twilight        3.331332e-05\n",
       "Astronomical_Twilight    3.331332e-05\n",
       "Civil_Twilight           3.331332e-05\n",
       "Sunrise_Sunset           3.331332e-05\n",
       "City                     3.236826e-05\n",
       "Description              4.725294e-07\n",
       "Amenity                  0.000000e+00\n",
       "Street                   0.000000e+00\n",
       "Source                   0.000000e+00\n",
       "Severity                 0.000000e+00\n",
       "Start_Time               0.000000e+00\n",
       "End_Time                 0.000000e+00\n",
       "Start_Lat                0.000000e+00\n",
       "Start_Lng                0.000000e+00\n",
       "Turning_Loop             0.000000e+00\n",
       "Distance(mi)             0.000000e+00\n",
       "Traffic_Signal           0.000000e+00\n",
       "Side                     0.000000e+00\n",
       "Bump                     0.000000e+00\n",
       "County                   0.000000e+00\n",
       "State                    0.000000e+00\n",
       "Traffic_Calming          0.000000e+00\n",
       "Country                  0.000000e+00\n",
       "Stop                     0.000000e+00\n",
       "Station                  0.000000e+00\n",
       "Roundabout               0.000000e+00\n",
       "Railway                  0.000000e+00\n",
       "No_Exit                  0.000000e+00\n",
       "Junction                 0.000000e+00\n",
       "Give_Way                 0.000000e+00\n",
       "Crossing                 0.000000e+00\n",
       "ID                       0.000000e+00\n",
       "dtype: float64"
      ]
     },
     "execution_count": 9,
     "metadata": {},
     "output_type": "execute_result"
    }
   ],
   "source": [
    "missing_percentages = df.isna().sum().sort_values(ascending=False) / len(df)\n",
    "missing_percentages"
   ]
  },
  {
   "cell_type": "code",
   "execution_count": 13,
   "metadata": {},
   "outputs": [
    {
     "data": {
      "text/plain": [
       "<matplotlib.axes._subplots.AxesSubplot at 0xae9d160>"
      ]
     },
     "execution_count": 13,
     "metadata": {},
     "output_type": "execute_result"
    },
    {
     "data": {
      "image/png": "[encoded data removed]",
      "text/plain": [
       "<Figure size 432x288 with 1 Axes>"
      ]
     },
     "metadata": {
      "needs_background": "light"
     },
     "output_type": "display_data"
    }
   ],
   "source": [
    "missing_percentages[missing_percentages != 0].plot(kind='barh')"
   ]
  },
  {
   "cell_type": "code",
   "execution_count": 16,
   "metadata": {},
   "outputs": [
    {
     "data": {
      "text/plain": [
       "Index(['ID', 'Source', 'TMC', 'Severity', 'Start_Time', 'End_Time',\n",
       "       'Start_Lat', 'Start_Lng', 'End_Lat', 'End_Lng', 'Distance(mi)',\n",
       "       'Description', 'Number', 'Street', 'Side', 'City', 'County', 'State',\n",
       "       'Zipcode', 'Country', 'Timezone', 'Airport_Code', 'Weather_Timestamp',\n",
       "       'Temperature(F)', 'Wind_Chill(F)', 'Humidity(%)', 'Pressure(in)',\n",
       "       'Visibility(mi)', 'Wind_Direction', 'Wind_Speed(mph)',\n",
       "       'Precipitation(in)', 'Weather_Condition', 'Amenity', 'Bump', 'Crossing',\n",
       "       'Give_Way', 'Junction', 'No_Exit', 'Railway', 'Roundabout', 'Station',\n",
       "       'Stop', 'Traffic_Calming', 'Traffic_Signal', 'Turning_Loop',\n",
       "       'Sunrise_Sunset', 'Civil_Twilight', 'Nautical_Twilight',\n",
       "       'Astronomical_Twilight'],\n",
       "      dtype='object')"
      ]
     },
     "execution_count": 16,
     "metadata": {},
     "output_type": "execute_result"
    }
   ],
   "source": [
    "df.columns"
   ]
  },
  {
   "cell_type": "code",
   "execution_count": 21,
   "metadata": {},
   "outputs": [],
   "source": [
    "cities=df.City.unique()"
   ]
  },
  {
   "cell_type": "code",
   "execution_count": 22,
   "metadata": {},
   "outputs": [
    {
     "data": {
      "text/plain": [
       "12251"
      ]
     },
     "execution_count": 22,
     "metadata": {},
     "output_type": "execute_result"
    }
   ],
   "source": [
    "len(cities)"
   ]
  },
  {
   "cell_type": "markdown",
   "metadata": {},
   "source": [
    "## 5 cities having highest accidents"
   ]
  },
  {
   "cell_type": "code",
   "execution_count": 27,
   "metadata": {},
   "outputs": [
    {
     "data": {
      "text/plain": [
       "Houston        114905\n",
       "Los Angeles     92701\n",
       "Charlotte       88887\n",
       "Dallas          77303\n",
       "Austin          70538\n",
       "Miami           63162\n",
       "Raleigh         52876\n",
       "Atlanta         46328\n",
       "Baton Rouge     42814\n",
       "Nashville       41850\n",
       "Name: City, dtype: int64"
      ]
     },
     "execution_count": 27,
     "metadata": {},
     "output_type": "execute_result"
    }
   ],
   "source": [
    "cities_by_accident = df.City.value_counts()\n",
    "cities_by_accident.head(10)"
   ]
  },
  {
   "cell_type": "code",
   "execution_count": 30,
   "metadata": {},
   "outputs": [
    {
     "data": {
      "text/plain": [
       "False"
      ]
     },
     "execution_count": 30,
     "metadata": {},
     "output_type": "execute_result"
    }
   ],
   "source": [
    "'NY' in df.State"
   ]
  },
  {
   "cell_type": "code",
   "execution_count": 31,
   "metadata": {},
   "outputs": [
    {
     "data": {
      "text/plain": [
       "<matplotlib.axes._subplots.AxesSubplot at 0xaf51400>"
      ]
     },
     "execution_count": 31,
     "metadata": {},
     "output_type": "execute_result"
    },
    {
     "data": {
      "image/png": "[encoded data removed]",
      "text/plain": [
       "<Figure size 432x288 with 1 Axes>"
      ]
     },
     "metadata": {
      "needs_background": "light"
     },
     "output_type": "display_data"
    }
   ],
   "source": [
    "cities_by_accident[:20].plot(kind='barh')"
   ]
  },
  {
   "cell_type": "code",
   "execution_count": 44,
   "metadata": {},
   "outputs": [],
   "source": [
    "high_accident_cities = cities_by_accident[cities_by_accident >=1000]\n",
    "low_accident_cities = cities_by_accident[cities_by_accident >1000]"
   ]
  },
  {
   "cell_type": "code",
   "execution_count": 45,
   "metadata": {},
   "outputs": [
    {
     "data": {
      "text/plain": [
       "0.05746469675944821"
      ]
     },
     "execution_count": 45,
     "metadata": {},
     "output_type": "execute_result"
    }
   ],
   "source": [
    "len(high_accident_cities)/len(cities)"
   ]
  },
  {
   "cell_type": "markdown",
   "metadata": {},
   "source": [
    "# less than 5% of cities have more than 1000 accidents"
   ]
  },
  {
   "cell_type": "code",
   "execution_count": 49,
   "metadata": {},
   "outputs": [
    {
     "data": {
      "text/plain": [
       "Oklahoma City Northwest      1\n",
       "Skidmore                     1\n",
       "Reeds Spring                 1\n",
       "District 13 Kent             1\n",
       "Fitzhugh                     1\n",
       "Campbellsport                1\n",
       "Claryville                   1\n",
       "Hodgenville                  1\n",
       "Berlin township              1\n",
       "Kingfisher                   1\n",
       "Emory                        1\n",
       "Seadrift                     1\n",
       "Keshena                      1\n",
       "Parsonsfield                 1\n",
       "Spraggs                      1\n",
       "North Bennington             1\n",
       "Pitts                        1\n",
       "East Hancock                 1\n",
       "Allenhurst                   1\n",
       "Lookout Mountain             1\n",
       "Tarawa Terrace               1\n",
       "Frierson                     1\n",
       "Lavaca                       1\n",
       "Leonardville                 1\n",
       "Fairchance                   1\n",
       "Deepwater                    1\n",
       "South Cairo                  1\n",
       "Crary                        1\n",
       "Merigold                     1\n",
       "Primm Springs                1\n",
       "                            ..\n",
       "Central Jefferson            1\n",
       "Auxvasse                     1\n",
       "Bridge City                  1\n",
       "Caro                         1\n",
       "Walla Walla-College Place    1\n",
       "Wellesley Island             1\n",
       "Northeast Travis             1\n",
       "Adger                        1\n",
       "Killona                      1\n",
       "Lowndesville                 1\n",
       "Driggs                       1\n",
       "Cedar Point                  1\n",
       "Wink                         1\n",
       "Cabery                       1\n",
       "Transfer                     1\n",
       "Big Rock                     1\n",
       "Cosmos township              1\n",
       "Faxon                        1\n",
       "Carolina                     1\n",
       "La Jara                      1\n",
       "Palm River-Gibsonton         1\n",
       "San Isidro                   1\n",
       "Middlesboro                  1\n",
       "Rapids City                  1\n",
       "Irons                        1\n",
       "Malmstrom AFB                1\n",
       "Mapleville                   1\n",
       "Vanleer                      1\n",
       "Crossett                     1\n",
       "Hindsville                   1\n",
       "Name: City, Length: 1267, dtype: int64"
      ]
     },
     "execution_count": 49,
     "metadata": {},
     "output_type": "execute_result"
    }
   ],
   "source": [
    "cities_by_accident[cities_by_accident == 1]"
   ]
  },
  {
   "cell_type": "markdown",
   "metadata": {},
   "source": [
    "## over 1200 cities have reported just 1 accident (need to investigate)"
   ]
  },
  {
   "cell_type": "code",
   "execution_count": 51,
   "metadata": {},
   "outputs": [
    {
     "data": {
      "text/plain": [
       "0          2016-02-08 05:46:00\n",
       "1          2016-02-08 06:07:59\n",
       "2          2016-02-08 06:49:27\n",
       "3          2016-02-08 07:23:34\n",
       "4          2016-02-08 07:39:07\n",
       "5          2016-02-08 07:44:26\n",
       "6          2016-02-08 07:59:35\n",
       "7          2016-02-08 07:59:58\n",
       "8          2016-02-08 08:00:40\n",
       "9          2016-02-08 08:10:04\n",
       "10         2016-02-08 08:14:42\n",
       "11         2016-02-08 08:21:27\n",
       "12         2016-02-08 08:36:34\n",
       "13         2016-02-08 08:37:07\n",
       "14         2016-02-08 08:39:43\n",
       "15         2016-02-08 08:43:20\n",
       "16         2016-02-08 08:53:17\n",
       "17         2016-02-08 09:24:37\n",
       "18         2016-02-08 09:25:17\n",
       "19         2016-02-08 09:35:35\n",
       "20         2016-02-08 10:11:15\n",
       "21         2016-02-08 10:24:27\n",
       "22         2016-02-08 11:53:19\n",
       "23         2016-02-08 12:00:00\n",
       "24         2016-02-08 12:16:44\n",
       "25         2016-02-08 12:41:08\n",
       "26         2016-02-08 12:52:05\n",
       "27         2016-02-08 14:24:48\n",
       "28         2016-02-08 14:56:57\n",
       "29         2016-02-08 15:26:14\n",
       "                  ...         \n",
       "4232511    2019-08-23 13:42:50\n",
       "4232512    2019-08-23 13:54:51\n",
       "4232513    2019-08-23 13:39:48\n",
       "4232514    2019-08-23 13:39:48\n",
       "4232515    2019-08-23 14:03:54\n",
       "4232516    2019-08-23 14:19:41\n",
       "4232517    2019-08-23 15:24:47\n",
       "4232518    2019-08-23 14:56:16\n",
       "4232519    2019-08-23 15:19:26\n",
       "4232520    2019-08-23 15:23:31\n",
       "4232521    2019-08-23 15:33:46\n",
       "4232522    2019-08-23 16:28:17\n",
       "4232523    2019-08-23 15:45:43\n",
       "4232524    2019-08-23 16:43:59\n",
       "4232525    2019-08-23 16:33:31\n",
       "4232526    2019-08-23 16:26:06\n",
       "4232527    2019-08-23 16:51:29\n",
       "4232528    2019-08-23 16:21:33\n",
       "4232529    2019-08-23 17:10:58\n",
       "4232530    2019-08-23 16:43:59\n",
       "4232531    2019-08-23 17:42:27\n",
       "4232532    2019-08-23 17:40:12\n",
       "4232533    2019-08-23 17:40:12\n",
       "4232534    2019-08-23 17:43:56\n",
       "4232535    2019-08-23 18:30:23\n",
       "4232536    2019-08-23 18:03:25\n",
       "4232537    2019-08-23 19:11:30\n",
       "4232538    2019-08-23 19:00:21\n",
       "4232539    2019-08-23 19:00:21\n",
       "4232540    2019-08-23 18:52:06\n",
       "Name: Start_Time, Length: 4232541, dtype: object"
      ]
     },
     "execution_count": 51,
     "metadata": {},
     "output_type": "execute_result"
    }
   ],
   "source": [
    "df.Start_Time"
   ]
  },
  {
   "cell_type": "markdown",
   "metadata": {},
   "source": [
    "## what time of the day are accidents most frequent?"
   ]
  },
  {
   "cell_type": "code",
   "execution_count": 63,
   "metadata": {},
   "outputs": [
    {
     "data": {
      "text/plain": [
       "0           5\n",
       "1           6\n",
       "2           6\n",
       "3           7\n",
       "4           7\n",
       "5           7\n",
       "6           7\n",
       "7           7\n",
       "8           8\n",
       "9           8\n",
       "10          8\n",
       "11          8\n",
       "12          8\n",
       "13          8\n",
       "14          8\n",
       "15          8\n",
       "16          8\n",
       "17          9\n",
       "18          9\n",
       "19          9\n",
       "20         10\n",
       "21         10\n",
       "22         11\n",
       "23         12\n",
       "24         12\n",
       "25         12\n",
       "26         12\n",
       "27         14\n",
       "28         14\n",
       "29         15\n",
       "           ..\n",
       "4232511    13\n",
       "4232512    13\n",
       "4232513    13\n",
       "4232514    13\n",
       "4232515    14\n",
       "4232516    14\n",
       "4232517    15\n",
       "4232518    14\n",
       "4232519    15\n",
       "4232520    15\n",
       "4232521    15\n",
       "4232522    16\n",
       "4232523    15\n",
       "4232524    16\n",
       "4232525    16\n",
       "4232526    16\n",
       "4232527    16\n",
       "4232528    16\n",
       "4232529    17\n",
       "4232530    16\n",
       "4232531    17\n",
       "4232532    17\n",
       "4232533    17\n",
       "4232534    17\n",
       "4232535    18\n",
       "4232536    18\n",
       "4232537    19\n",
       "4232538    19\n",
       "4232539    19\n",
       "4232540    18\n",
       "Name: Start_Time, Length: 4232541, dtype: int64"
      ]
     },
     "execution_count": 63,
     "metadata": {},
     "output_type": "execute_result"
    }
   ],
   "source": [
    "df.Start_Time.dt.hour"
   ]
  },
  {
   "cell_type": "code",
   "execution_count": 52,
   "metadata": {},
   "outputs": [],
   "source": [
    "df.Start_Time = pd.to_datetime(df.Start_Time)"
   ]
  },
  {
   "cell_type": "code",
   "execution_count": 54,
   "metadata": {},
   "outputs": [
    {
     "data": {
      "text/plain": [
       "Timestamp('2016-02-08 05:46:00')"
      ]
     },
     "execution_count": 54,
     "metadata": {},
     "output_type": "execute_result"
    }
   ],
   "source": [
    "df.Start_Time[0]"
   ]
  },
  {
   "cell_type": "code",
   "execution_count": 62,
   "metadata": {},
   "outputs": [
    {
     "data": {
      "text/plain": [
       "(array([ 59775.,  55599.,  51363.,  44247.,  89819., 122520., 228882.,\n",
       "        349950., 358432., 221546., 202997., 202911., 188991., 205848.,\n",
       "        216507., 250801., 294589., 301116., 237053., 166967., 126256.,\n",
       "        100519.,  90153.,  65700.]),\n",
       " array([ 0.        ,  0.95833333,  1.91666667,  2.875     ,  3.83333333,\n",
       "         4.79166667,  5.75      ,  6.70833333,  7.66666667,  8.625     ,\n",
       "         9.58333333, 10.54166667, 11.5       , 12.45833333, 13.41666667,\n",
       "        14.375     , 15.33333333, 16.29166667, 17.25      , 18.20833333,\n",
       "        19.16666667, 20.125     , 21.08333333, 22.04166667, 23.        ]),\n",
       " <a list of 24 Patch objects>)"
      ]
     },
     "execution_count": 62,
     "metadata": {},
     "output_type": "execute_result"
    },
    {
     "data": {
      "image/png": "[encoded data removed]",
      "text/plain": [
       "<Figure size 432x288 with 1 Axes>"
      ]
     },
     "metadata": {},
     "output_type": "display_data"
    }
   ],
   "source": [
    "plt.hist(df.Start_Time.dt.hour, bins=24)"
   ]
  },
  {
   "cell_type": "markdown",
   "metadata": {},
   "source": [
    "## most accidents happen between 6 am to 10 am \n",
    "## Next high is between 3 pm to 6 pm."
   ]
  },
  {
   "cell_type": "markdown",
   "metadata": {},
   "source": [
    "\n",
    "### which days of the week have the most accidents?\n",
    "\n"
   ]
  },
  {
   "cell_type": "code",
   "execution_count": 66,
   "metadata": {},
   "outputs": [
    {
     "data": {
      "text/plain": [
       "(array([703779., 744645., 747851., 742968., 747624., 289754., 255920.]),\n",
       " array([0.        , 0.85714286, 1.71428571, 2.57142857, 3.42857143,\n",
       "        4.28571429, 5.14285714, 6.        ]),\n",
       " <a list of 7 Patch objects>)"
      ]
     },
     "execution_count": 66,
     "metadata": {},
     "output_type": "execute_result"
    },
    {
     "data": {
      "image/png": "[encoded data removed]",
      "text/plain": [
       "<Figure size 432x288 with 1 Axes>"
      ]
     },
     "metadata": {},
     "output_type": "display_data"
    }
   ],
   "source": [
    "plt.hist(df.Start_Time.dt.dayofweek, bins=7)"
   ]
  },
  {
   "cell_type": "code",
   "execution_count": 68,
   "metadata": {},
   "outputs": [
    {
     "data": {
      "text/plain": [
       "(array([ 7630.,  7510.,  7450.,  6540.,  6924.,  6966.,  8571., 10072.,\n",
       "         9561., 10418., 12153., 13695., 14338., 15357., 15744., 14485.,\n",
       "        14075., 12679., 12557., 11483., 10384., 10487.,  8983.,  7858.]),\n",
       " array([ 0.        ,  0.95833333,  1.91666667,  2.875     ,  3.83333333,\n",
       "         4.79166667,  5.75      ,  6.70833333,  7.66666667,  8.625     ,\n",
       "         9.58333333, 10.54166667, 11.5       , 12.45833333, 13.41666667,\n",
       "        14.375     , 15.33333333, 16.29166667, 17.25      , 18.20833333,\n",
       "        19.16666667, 20.125     , 21.08333333, 22.04166667, 23.        ]),\n",
       " <a list of 24 Patch objects>)"
      ]
     },
     "execution_count": 68,
     "metadata": {},
     "output_type": "execute_result"
    },
    {
     "data": {
      "image/png": "[encoded data removed]",
      "text/plain": [
       "<Figure size 432x288 with 1 Axes>"
      ]
     },
     "metadata": {},
     "output_type": "display_data"
    }
   ],
   "source": [
    "sundays_start_time = df.Start_Time[df.Start_Time.dt.dayofweek == 6]\n",
    "plt.hist(sundays_start_time.dt.hour, bins=24)"
   ]
  },
  {
   "cell_type": "code",
   "execution_count": null,
   "metadata": {},
   "outputs": [],
   "source": [
    "On Sundays, the peak occurs between 10 am and 3 pm, unlike weekdays"
   ]
  },
  {
   "cell_type": "code",
   "execution_count": 69,
   "metadata": {},
   "outputs": [],
   "source": [
    "\n"
   ]
  },
  {
   "cell_type": "code",
   "execution_count": null,
   "metadata": {},
   "outputs": [],
   "source": []
  },
  {
   "cell_type": "code",
   "execution_count": null,
   "metadata": {},
   "outputs": [],
   "source": []
  },
  {
   "cell_type": "code",
   "execution_count": null,
   "metadata": {},
   "outputs": [],
   "source": []
  },
  {
   "cell_type": "code",
   "execution_count": null,
   "metadata": {},
   "outputs": [],
   "source": []
  },
  {
   "cell_type": "code",
   "execution_count": null,
   "metadata": {},
   "outputs": [],
   "source": []
  },
  {
   "cell_type": "code",
   "execution_count": null,
   "metadata": {},
   "outputs": [],
   "source": []
  }
 ],
 "metadata": {
  "kernelspec": {
   "display_name": "Python 3",
   "language": "python",
   "name": "python3"
  },
  "language_info": {
   "codemirror_mode": {
    "name": "ipython",
    "version": 3
   },
   "file_extension": ".py",
   "mimetype": "text/x-python",
   "name": "python",
   "nbconvert_exporter": "python",
   "pygments_lexer": "ipython3",
   "version": "3.7.1"
  }
 },
 "nbformat": 4,
 "nbformat_minor": 2
}
